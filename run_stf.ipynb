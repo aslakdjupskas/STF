{
  "cells": [
    {
      "cell_type": "code",
      "execution_count": 12,
      "metadata": {
        "colab": {
          "base_uri": "https://localhost:8080/"
        },
        "id": "U2FCzxdfemly",
        "outputId": "e5bbe49d-f27c-4930-d928-f9125b1caaf1"
      },
      "outputs": [
        {
          "name": "stdout",
          "output_type": "stream",
          "text": [
            "Requirement already satisfied: fiftyone in /usr/local/lib/python3.10/dist-packages (0.22.3)\n",
            "Requirement already satisfied: aiofiles in /usr/local/lib/python3.10/dist-packages (from fiftyone) (23.2.1)\n",
            "Requirement already satisfied: argcomplete in /usr/local/lib/python3.10/dist-packages (from fiftyone) (3.1.6)\n",
            "Requirement already satisfied: beautifulsoup4 in /usr/local/lib/python3.10/dist-packages (from fiftyone) (4.11.2)\n",
            "Requirement already satisfied: boto3 in /usr/local/lib/python3.10/dist-packages (from fiftyone) (1.33.7)\n",
            "Requirement already satisfied: cachetools in /usr/local/lib/python3.10/dist-packages (from fiftyone) (5.3.2)\n",
            "Requirement already satisfied: dacite<1.8.0,>=1.6.0 in /usr/local/lib/python3.10/dist-packages (from fiftyone) (1.7.0)\n",
            "Requirement already satisfied: Deprecated in /usr/local/lib/python3.10/dist-packages (from fiftyone) (1.2.14)\n",
            "Requirement already satisfied: ftfy in /usr/local/lib/python3.10/dist-packages (from fiftyone) (6.1.3)\n",
            "Requirement already satisfied: humanize in /usr/local/lib/python3.10/dist-packages (from fiftyone) (4.7.0)\n",
            "Requirement already satisfied: hypercorn>=0.13.2 in /usr/local/lib/python3.10/dist-packages (from fiftyone) (0.15.0)\n",
            "Requirement already satisfied: Jinja2>=3 in /usr/local/lib/python3.10/dist-packages (from fiftyone) (3.1.2)\n",
            "Requirement already satisfied: kaleido!=0.2.1.post1 in /usr/local/lib/python3.10/dist-packages (from fiftyone) (0.2.1)\n",
            "Requirement already satisfied: matplotlib in /usr/local/lib/python3.10/dist-packages (from fiftyone) (3.7.1)\n",
            "Requirement already satisfied: mongoengine==0.24.2 in /usr/local/lib/python3.10/dist-packages (from fiftyone) (0.24.2)\n",
            "Requirement already satisfied: motor>=2.5 in /usr/local/lib/python3.10/dist-packages (from fiftyone) (3.3.2)\n",
            "Requirement already satisfied: numpy in /usr/local/lib/python3.10/dist-packages (from fiftyone) (1.23.5)\n",
            "Requirement already satisfied: packaging in /usr/local/lib/python3.10/dist-packages (from fiftyone) (23.2)\n",
            "Requirement already satisfied: pandas in /usr/local/lib/python3.10/dist-packages (from fiftyone) (1.5.3)\n",
            "Requirement already satisfied: Pillow>=6.2 in /usr/local/lib/python3.10/dist-packages (from fiftyone) (9.4.0)\n",
            "Requirement already satisfied: plotly>=4.14 in /usr/local/lib/python3.10/dist-packages (from fiftyone) (5.15.0)\n",
            "Requirement already satisfied: pprintpp in /usr/local/lib/python3.10/dist-packages (from fiftyone) (0.4.0)\n",
            "Requirement already satisfied: psutil in /usr/local/lib/python3.10/dist-packages (from fiftyone) (5.9.5)\n",
            "Requirement already satisfied: pymongo>=3.12 in /usr/local/lib/python3.10/dist-packages (from fiftyone) (4.6.1)\n",
            "Requirement already satisfied: pytz in /usr/local/lib/python3.10/dist-packages (from fiftyone) (2023.3.post1)\n",
            "Requirement already satisfied: PyYAML in /usr/local/lib/python3.10/dist-packages (from fiftyone) (6.0.1)\n",
            "Requirement already satisfied: regex in /usr/local/lib/python3.10/dist-packages (from fiftyone) (2023.6.3)\n",
            "Requirement already satisfied: retrying in /usr/local/lib/python3.10/dist-packages (from fiftyone) (1.3.4)\n",
            "Requirement already satisfied: scikit-learn in /usr/local/lib/python3.10/dist-packages (from fiftyone) (1.2.2)\n",
            "Requirement already satisfied: scikit-image in /usr/local/lib/python3.10/dist-packages (from fiftyone) (0.19.3)\n",
            "Requirement already satisfied: setuptools in /usr/local/lib/python3.10/dist-packages (from fiftyone) (67.7.2)\n",
            "Requirement already satisfied: sseclient-py<2,>=1.7.2 in /usr/local/lib/python3.10/dist-packages (from fiftyone) (1.8.0)\n",
            "Requirement already satisfied: sse-starlette<1,>=0.10.3 in /usr/local/lib/python3.10/dist-packages (from fiftyone) (0.10.3)\n",
            "Requirement already satisfied: starlette>=0.24.0 in /usr/local/lib/python3.10/dist-packages (from fiftyone) (0.33.0)\n",
            "Requirement already satisfied: strawberry-graphql==0.138.1 in /usr/local/lib/python3.10/dist-packages (from fiftyone) (0.138.1)\n",
            "Requirement already satisfied: tabulate in /usr/local/lib/python3.10/dist-packages (from fiftyone) (0.9.0)\n",
            "Requirement already satisfied: xmltodict in /usr/local/lib/python3.10/dist-packages (from fiftyone) (0.13.0)\n",
            "Requirement already satisfied: universal-analytics-python3<2,>=1.0.1 in /usr/local/lib/python3.10/dist-packages (from fiftyone) (1.1.1)\n",
            "Requirement already satisfied: fiftyone-brain~=0.13.2 in /usr/local/lib/python3.10/dist-packages (from fiftyone) (0.13.4)\n",
            "Requirement already satisfied: fiftyone-db~=0.4 in /usr/local/lib/python3.10/dist-packages (from fiftyone) (0.4.3)\n",
            "Requirement already satisfied: voxel51-eta~=0.12 in /usr/local/lib/python3.10/dist-packages (from fiftyone) (0.12.0)\n",
            "Requirement already satisfied: opencv-python-headless in /usr/local/lib/python3.10/dist-packages (from fiftyone) (4.8.1.78)\n",
            "Requirement already satisfied: graphql-core<3.3.0,>=3.2.0 in /usr/local/lib/python3.10/dist-packages (from strawberry-graphql==0.138.1->fiftyone) (3.2.3)\n",
            "Requirement already satisfied: python-dateutil<3.0.0,>=2.7.0 in /usr/local/lib/python3.10/dist-packages (from strawberry-graphql==0.138.1->fiftyone) (2.8.2)\n",
            "Requirement already satisfied: typing_extensions<5.0.0,>=3.7.4 in /usr/local/lib/python3.10/dist-packages (from strawberry-graphql==0.138.1->fiftyone) (4.5.0)\n",
            "Requirement already satisfied: scipy>=1.2.0 in /usr/local/lib/python3.10/dist-packages (from fiftyone-brain~=0.13.2->fiftyone) (1.11.4)\n",
            "Requirement already satisfied: h11 in /usr/local/lib/python3.10/dist-packages (from hypercorn>=0.13.2->fiftyone) (0.14.0)\n",
            "Requirement already satisfied: h2>=3.1.0 in /usr/local/lib/python3.10/dist-packages (from hypercorn>=0.13.2->fiftyone) (4.1.0)\n",
            "Requirement already satisfied: priority in /usr/local/lib/python3.10/dist-packages (from hypercorn>=0.13.2->fiftyone) (2.0.0)\n",
            "Requirement already satisfied: taskgroup in /usr/local/lib/python3.10/dist-packages (from hypercorn>=0.13.2->fiftyone) (0.0.0a4)\n",
            "Requirement already satisfied: tomli in /usr/local/lib/python3.10/dist-packages (from hypercorn>=0.13.2->fiftyone) (2.0.1)\n",
            "Requirement already satisfied: wsproto>=0.14.0 in /usr/local/lib/python3.10/dist-packages (from hypercorn>=0.13.2->fiftyone) (1.2.0)\n",
            "Requirement already satisfied: MarkupSafe>=2.0 in /usr/local/lib/python3.10/dist-packages (from Jinja2>=3->fiftyone) (2.1.3)\n",
            "Requirement already satisfied: tenacity>=6.2.0 in /usr/local/lib/python3.10/dist-packages (from plotly>=4.14->fiftyone) (8.2.3)\n",
            "Requirement already satisfied: dnspython<3.0.0,>=1.16.0 in /usr/local/lib/python3.10/dist-packages (from pymongo>=3.12->fiftyone) (2.4.2)\n",
            "Requirement already satisfied: anyio<5,>=3.4.0 in /usr/local/lib/python3.10/dist-packages (from starlette>=0.24.0->fiftyone) (3.7.1)\n",
            "Requirement already satisfied: httpx>=0.10.0 in /usr/local/lib/python3.10/dist-packages (from universal-analytics-python3<2,>=1.0.1->fiftyone) (0.25.2)\n",
            "Requirement already satisfied: dill in /usr/local/lib/python3.10/dist-packages (from voxel51-eta~=0.12->fiftyone) (0.3.7)\n",
            "Requirement already satisfied: future in /usr/local/lib/python3.10/dist-packages (from voxel51-eta~=0.12->fiftyone) (0.18.3)\n",
            "Requirement already satisfied: glob2 in /usr/local/lib/python3.10/dist-packages (from voxel51-eta~=0.12->fiftyone) (0.7)\n",
            "Requirement already satisfied: jsonlines in /usr/local/lib/python3.10/dist-packages (from voxel51-eta~=0.12->fiftyone) (4.0.0)\n",
            "Requirement already satisfied: py7zr in /usr/local/lib/python3.10/dist-packages (from voxel51-eta~=0.12->fiftyone) (0.20.8)\n",
            "Requirement already satisfied: rarfile in /usr/local/lib/python3.10/dist-packages (from voxel51-eta~=0.12->fiftyone) (4.1)\n",
            "Requirement already satisfied: requests in /usr/local/lib/python3.10/dist-packages (from voxel51-eta~=0.12->fiftyone) (2.31.0)\n",
            "Requirement already satisfied: six in /usr/local/lib/python3.10/dist-packages (from voxel51-eta~=0.12->fiftyone) (1.16.0)\n",
            "Requirement already satisfied: sortedcontainers in /usr/local/lib/python3.10/dist-packages (from voxel51-eta~=0.12->fiftyone) (2.4.0)\n",
            "Requirement already satisfied: tzlocal in /usr/local/lib/python3.10/dist-packages (from voxel51-eta~=0.12->fiftyone) (5.2)\n",
            "Requirement already satisfied: urllib3 in /usr/local/lib/python3.10/dist-packages (from voxel51-eta~=0.12->fiftyone) (2.0.7)\n",
            "Requirement already satisfied: soupsieve>1.2 in /usr/local/lib/python3.10/dist-packages (from beautifulsoup4->fiftyone) (2.5)\n",
            "Requirement already satisfied: botocore<1.34.0,>=1.33.7 in /usr/local/lib/python3.10/dist-packages (from boto3->fiftyone) (1.33.7)\n",
            "Requirement already satisfied: jmespath<2.0.0,>=0.7.1 in /usr/local/lib/python3.10/dist-packages (from boto3->fiftyone) (1.0.1)\n",
            "Requirement already satisfied: s3transfer<0.9.0,>=0.8.2 in /usr/local/lib/python3.10/dist-packages (from boto3->fiftyone) (0.8.2)\n",
            "Requirement already satisfied: wrapt<2,>=1.10 in /usr/local/lib/python3.10/dist-packages (from Deprecated->fiftyone) (1.14.1)\n",
            "Requirement already satisfied: wcwidth<0.3.0,>=0.2.12 in /usr/local/lib/python3.10/dist-packages (from ftfy->fiftyone) (0.2.12)\n",
            "Requirement already satisfied: contourpy>=1.0.1 in /usr/local/lib/python3.10/dist-packages (from matplotlib->fiftyone) (1.2.0)\n",
            "Requirement already satisfied: cycler>=0.10 in /usr/local/lib/python3.10/dist-packages (from matplotlib->fiftyone) (0.12.1)\n",
            "Requirement already satisfied: fonttools>=4.22.0 in /usr/local/lib/python3.10/dist-packages (from matplotlib->fiftyone) (4.45.1)\n",
            "Requirement already satisfied: kiwisolver>=1.0.1 in /usr/local/lib/python3.10/dist-packages (from matplotlib->fiftyone) (1.4.5)\n",
            "Requirement already satisfied: pyparsing>=2.3.1 in /usr/local/lib/python3.10/dist-packages (from matplotlib->fiftyone) (3.1.1)\n",
            "Requirement already satisfied: networkx>=2.2 in /usr/local/lib/python3.10/dist-packages (from scikit-image->fiftyone) (3.2.1)\n",
            "Requirement already satisfied: imageio>=2.4.1 in /usr/local/lib/python3.10/dist-packages (from scikit-image->fiftyone) (2.31.6)\n",
            "Requirement already satisfied: tifffile>=2019.7.26 in /usr/local/lib/python3.10/dist-packages (from scikit-image->fiftyone) (2023.9.26)\n",
            "Requirement already satisfied: PyWavelets>=1.1.1 in /usr/local/lib/python3.10/dist-packages (from scikit-image->fiftyone) (1.5.0)\n",
            "Requirement already satisfied: joblib>=1.1.1 in /usr/local/lib/python3.10/dist-packages (from scikit-learn->fiftyone) (1.3.2)\n",
            "Requirement already satisfied: threadpoolctl>=2.0.0 in /usr/local/lib/python3.10/dist-packages (from scikit-learn->fiftyone) (3.2.0)\n",
            "Requirement already satisfied: idna>=2.8 in /usr/local/lib/python3.10/dist-packages (from anyio<5,>=3.4.0->starlette>=0.24.0->fiftyone) (3.6)\n",
            "Requirement already satisfied: sniffio>=1.1 in /usr/local/lib/python3.10/dist-packages (from anyio<5,>=3.4.0->starlette>=0.24.0->fiftyone) (1.3.0)\n",
            "Requirement already satisfied: exceptiongroup in /usr/local/lib/python3.10/dist-packages (from anyio<5,>=3.4.0->starlette>=0.24.0->fiftyone) (1.2.0)\n",
            "Requirement already satisfied: hyperframe<7,>=6.0 in /usr/local/lib/python3.10/dist-packages (from h2>=3.1.0->hypercorn>=0.13.2->fiftyone) (6.0.1)\n",
            "Requirement already satisfied: hpack<5,>=4.0 in /usr/local/lib/python3.10/dist-packages (from h2>=3.1.0->hypercorn>=0.13.2->fiftyone) (4.0.0)\n",
            "Requirement already satisfied: certifi in /usr/local/lib/python3.10/dist-packages (from httpx>=0.10.0->universal-analytics-python3<2,>=1.0.1->fiftyone) (2023.11.17)\n",
            "Requirement already satisfied: httpcore==1.* in /usr/local/lib/python3.10/dist-packages (from httpx>=0.10.0->universal-analytics-python3<2,>=1.0.1->fiftyone) (1.0.2)\n",
            "Requirement already satisfied: attrs>=19.2.0 in /usr/local/lib/python3.10/dist-packages (from jsonlines->voxel51-eta~=0.12->fiftyone) (23.1.0)\n",
            "Requirement already satisfied: texttable in /usr/local/lib/python3.10/dist-packages (from py7zr->voxel51-eta~=0.12->fiftyone) (1.7.0)\n",
            "Requirement already satisfied: pycryptodomex>=3.16.0 in /usr/local/lib/python3.10/dist-packages (from py7zr->voxel51-eta~=0.12->fiftyone) (3.19.0)\n",
            "Requirement already satisfied: pyzstd>=0.15.9 in /usr/local/lib/python3.10/dist-packages (from py7zr->voxel51-eta~=0.12->fiftyone) (0.15.9)\n",
            "Requirement already satisfied: pyppmd<1.2.0,>=1.1.0 in /usr/local/lib/python3.10/dist-packages (from py7zr->voxel51-eta~=0.12->fiftyone) (1.1.0)\n",
            "Requirement already satisfied: pybcj<1.1.0,>=1.0.0 in /usr/local/lib/python3.10/dist-packages (from py7zr->voxel51-eta~=0.12->fiftyone) (1.0.2)\n",
            "Requirement already satisfied: multivolumefile>=0.2.3 in /usr/local/lib/python3.10/dist-packages (from py7zr->voxel51-eta~=0.12->fiftyone) (0.2.3)\n",
            "Requirement already satisfied: inflate64<1.1.0,>=1.0.0 in /usr/local/lib/python3.10/dist-packages (from py7zr->voxel51-eta~=0.12->fiftyone) (1.0.0)\n",
            "Requirement already satisfied: brotli>=1.1.0 in /usr/local/lib/python3.10/dist-packages (from py7zr->voxel51-eta~=0.12->fiftyone) (1.1.0)\n",
            "Requirement already satisfied: charset-normalizer<4,>=2 in /usr/local/lib/python3.10/dist-packages (from requests->voxel51-eta~=0.12->fiftyone) (3.3.2)\n",
            "Requirement already satisfied: fiftyone-db==0.4.3 in /usr/local/lib/python3.10/dist-packages (0.4.3)\n"
          ]
        }
      ],
      "source": [
        "!pip install fiftyone\n",
        "!pip install fiftyone-db==0.4.3\n",
        "import torch\n"
      ]
    },
    {
      "cell_type": "code",
      "execution_count": 13,
      "metadata": {
        "colab": {
          "base_uri": "https://localhost:8080/"
        },
        "id": "uLe8LQKyj2MV",
        "outputId": "4b194f27-6a47-41f5-b6c9-d3b954f8a257"
      },
      "outputs": [
        {
          "name": "stdout",
          "output_type": "stream",
          "text": [
            "Drive already mounted at /content/drive; to attempt to forcibly remount, call drive.mount(\"/content/drive\", force_remount=True).\n"
          ]
        }
      ],
      "source": [
        "import locale\n",
        "locale.getpreferredencoding = lambda: \"UTF-8\"\n",
        "from google.colab import drive\n",
        "drive.mount('/content/drive')"
      ]
    },
    {
      "cell_type": "code",
      "execution_count": 14,
      "metadata": {
        "colab": {
          "base_uri": "https://localhost:8080/"
        },
        "id": "gALYjAshj6N4",
        "outputId": "be6c9922-02a1-4f7f-c202-95af4b109816"
      },
      "outputs": [
        {
          "name": "stdout",
          "output_type": "stream",
          "text": [
            "Cloning into 'STF'...\n",
            "remote: Enumerating objects: 343, done.\u001b[K\n",
            "remote: Counting objects: 100% (111/111), done.\u001b[K\n",
            "remote: Compressing objects: 100% (70/70), done.\u001b[K\n",
            "remote: Total 343 (delta 65), reused 75 (delta 41), pack-reused 232\u001b[K\n",
            "Receiving objects: 100% (343/343), 28.26 MiB | 21.03 MiB/s, done.\n",
            "Resolving deltas: 100% (141/141), done.\n",
            "Already up to date.\n",
            "Requirement already satisfied: compressai in /content/STF (1.1.6.dev0)\n",
            "Requirement already satisfied: numpy in /usr/local/lib/python3.10/dist-packages (from compressai) (1.23.5)\n",
            "Requirement already satisfied: scipy in /usr/local/lib/python3.10/dist-packages (from compressai) (1.11.4)\n",
            "Requirement already satisfied: matplotlib in /usr/local/lib/python3.10/dist-packages (from compressai) (3.7.1)\n",
            "Requirement already satisfied: torch in /usr/local/lib/python3.10/dist-packages (from compressai) (2.1.0+cu118)\n",
            "Requirement already satisfied: torchvision in /usr/local/lib/python3.10/dist-packages (from compressai) (0.16.0+cu118)\n",
            "Requirement already satisfied: pytorch-msssim in /usr/local/lib/python3.10/dist-packages (from compressai) (1.0.0)\n",
            "Requirement already satisfied: timm in /usr/local/lib/python3.10/dist-packages (from compressai) (0.9.12)\n",
            "Requirement already satisfied: einops in /usr/local/lib/python3.10/dist-packages (from compressai) (0.7.0)\n",
            "Requirement already satisfied: contourpy>=1.0.1 in /usr/local/lib/python3.10/dist-packages (from matplotlib->compressai) (1.2.0)\n",
            "Requirement already satisfied: cycler>=0.10 in /usr/local/lib/python3.10/dist-packages (from matplotlib->compressai) (0.12.1)\n",
            "Requirement already satisfied: fonttools>=4.22.0 in /usr/local/lib/python3.10/dist-packages (from matplotlib->compressai) (4.45.1)\n",
            "Requirement already satisfied: kiwisolver>=1.0.1 in /usr/local/lib/python3.10/dist-packages (from matplotlib->compressai) (1.4.5)\n",
            "Requirement already satisfied: packaging>=20.0 in /usr/local/lib/python3.10/dist-packages (from matplotlib->compressai) (23.2)\n",
            "Requirement already satisfied: pillow>=6.2.0 in /usr/local/lib/python3.10/dist-packages (from matplotlib->compressai) (9.4.0)\n",
            "Requirement already satisfied: pyparsing>=2.3.1 in /usr/local/lib/python3.10/dist-packages (from matplotlib->compressai) (3.1.1)\n",
            "Requirement already satisfied: python-dateutil>=2.7 in /usr/local/lib/python3.10/dist-packages (from matplotlib->compressai) (2.8.2)\n",
            "Requirement already satisfied: pyyaml in /usr/local/lib/python3.10/dist-packages (from timm->compressai) (6.0.1)\n",
            "Requirement already satisfied: huggingface-hub in /usr/local/lib/python3.10/dist-packages (from timm->compressai) (0.19.4)\n",
            "Requirement already satisfied: safetensors in /usr/local/lib/python3.10/dist-packages (from timm->compressai) (0.4.1)\n",
            "Requirement already satisfied: filelock in /usr/local/lib/python3.10/dist-packages (from torch->compressai) (3.13.1)\n",
            "Requirement already satisfied: typing-extensions in /usr/local/lib/python3.10/dist-packages (from torch->compressai) (4.5.0)\n",
            "Requirement already satisfied: sympy in /usr/local/lib/python3.10/dist-packages (from torch->compressai) (1.12)\n",
            "Requirement already satisfied: networkx in /usr/local/lib/python3.10/dist-packages (from torch->compressai) (3.2.1)\n",
            "Requirement already satisfied: jinja2 in /usr/local/lib/python3.10/dist-packages (from torch->compressai) (3.1.2)\n",
            "Requirement already satisfied: fsspec in /usr/local/lib/python3.10/dist-packages (from torch->compressai) (2023.6.0)\n",
            "Requirement already satisfied: triton==2.1.0 in /usr/local/lib/python3.10/dist-packages (from torch->compressai) (2.1.0)\n",
            "Requirement already satisfied: requests in /usr/local/lib/python3.10/dist-packages (from torchvision->compressai) (2.31.0)\n",
            "Requirement already satisfied: six>=1.5 in /usr/local/lib/python3.10/dist-packages (from python-dateutil>=2.7->matplotlib->compressai) (1.16.0)\n",
            "Requirement already satisfied: tqdm>=4.42.1 in /usr/local/lib/python3.10/dist-packages (from huggingface-hub->timm->compressai) (4.66.1)\n",
            "Requirement already satisfied: MarkupSafe>=2.0 in /usr/local/lib/python3.10/dist-packages (from jinja2->torch->compressai) (2.1.3)\n",
            "Requirement already satisfied: charset-normalizer<4,>=2 in /usr/local/lib/python3.10/dist-packages (from requests->torchvision->compressai) (3.3.2)\n",
            "Requirement already satisfied: idna<4,>=2.5 in /usr/local/lib/python3.10/dist-packages (from requests->torchvision->compressai) (3.6)\n",
            "Requirement already satisfied: urllib3<3,>=1.21.1 in /usr/local/lib/python3.10/dist-packages (from requests->torchvision->compressai) (2.0.7)\n",
            "Requirement already satisfied: certifi>=2017.4.17 in /usr/local/lib/python3.10/dist-packages (from requests->torchvision->compressai) (2023.11.17)\n",
            "Requirement already satisfied: mpmath>=0.19 in /usr/local/lib/python3.10/dist-packages (from sympy->torch->compressai) (1.3.0)\n",
            "Requirement already satisfied: pybind11 in /usr/local/lib/python3.10/dist-packages (2.11.1)\n"
          ]
        }
      ],
      "source": [
        "%cd /content\n",
        "!git clone https://<token>@github.com/aslakdjupskas/STF.git\n",
        "!git pull\n",
        "!pip install compressai\n",
        "!pip install pybind11\n"
      ]
    },
    {
      "cell_type": "code",
      "execution_count": 16,
      "metadata": {
        "colab": {
          "base_uri": "https://localhost:8080/"
        },
        "id": "ZbrTGs3VkemR",
        "outputId": "3e73bf10-cdb2-483f-d93b-f76101a2e672"
      },
      "outputs": [
        {
          "name": "stdout",
          "output_type": "stream",
          "text": [
            "Downloading...\n",
            "From: https://drive.google.com/uc?id=1OFzZoEaofNgsimBuOPHtgOJiGsR_RS-M\n",
            "To: /content/STF/STF/compressai/pretrained/stf_0035_best.pth.tar\n",
            "100% 1.20G/1.20G [00:18<00:00, 64.3MB/s]\n",
            "Collecting alabaster==0.7.12 (from -r requirements.txt (line 1))\n",
            "  Using cached alabaster-0.7.12-py2.py3-none-any.whl (14 kB)\n",
            "Requirement already satisfied: appdirs==1.4.4 in /usr/local/lib/python3.10/dist-packages (from -r requirements.txt (line 2)) (1.4.4)\n",
            "Collecting appnope==0.1.2 (from -r requirements.txt (line 3))\n",
            "  Using cached appnope-0.1.2-py2.py3-none-any.whl (4.3 kB)\n",
            "Collecting argon2-cffi==20.1.0 (from -r requirements.txt (line 4))\n",
            "  Using cached argon2_cffi-20.1.0-cp35-abi3-manylinux1_x86_64.whl (97 kB)\n",
            "Collecting astroid==2.5.6 (from -r requirements.txt (line 5))\n",
            "  Using cached astroid-2.5.6-py3-none-any.whl (219 kB)\n",
            "Collecting async-generator==1.10 (from -r requirements.txt (line 6))\n",
            "  Using cached async_generator-1.10-py3-none-any.whl (18 kB)\n",
            "Collecting attrs==20.3.0 (from -r requirements.txt (line 7))\n",
            "  Using cached attrs-20.3.0-py2.py3-none-any.whl (49 kB)\n",
            "Collecting Babel==2.9.0 (from -r requirements.txt (line 8))\n",
            "  Using cached Babel-2.9.0-py2.py3-none-any.whl (8.8 MB)\n",
            "Requirement already satisfied: backcall==0.2.0 in /usr/local/lib/python3.10/dist-packages (from -r requirements.txt (line 9)) (0.2.0)\n",
            "Collecting beautifulsoup4==4.9.3 (from -r requirements.txt (line 10))\n",
            "  Using cached beautifulsoup4-4.9.3-py3-none-any.whl (115 kB)\n",
            "Collecting black==21.5b2 (from -r requirements.txt (line 11))\n",
            "  Using cached black-21.5b2-py3-none-any.whl (138 kB)\n",
            "Collecting bleach==3.3.0 (from -r requirements.txt (line 12))\n",
            "  Using cached bleach-3.3.0-py2.py3-none-any.whl (283 kB)\n",
            "Collecting certifi==2020.12.5 (from -r requirements.txt (line 13))\n",
            "  Using cached certifi-2020.12.5-py2.py3-none-any.whl (147 kB)\n",
            "Collecting cffi==1.14.5 (from -r requirements.txt (line 14))\n",
            "  Using cached cffi-1.14.5.tar.gz (475 kB)\n",
            "  Preparing metadata (setup.py) ... \u001b[?25l\u001b[?25hdone\n",
            "Collecting chardet==4.0.0 (from -r requirements.txt (line 15))\n",
            "  Using cached chardet-4.0.0-py2.py3-none-any.whl (178 kB)\n",
            "Collecting click==8.0.1 (from -r requirements.txt (line 16))\n",
            "  Using cached click-8.0.1-py3-none-any.whl (97 kB)\n",
            "Collecting coverage==5.5 (from -r requirements.txt (line 17))\n",
            "  Using cached coverage-5.5-cp310-cp310-manylinux1_x86_64.whl (238 kB)\n",
            "Collecting cycler==0.10.0 (from -r requirements.txt (line 18))\n",
            "  Using cached cycler-0.10.0-py2.py3-none-any.whl (6.5 kB)\n",
            "Requirement already satisfied: decorator==4.4.2 in /usr/local/lib/python3.10/dist-packages (from -r requirements.txt (line 19)) (4.4.2)\n",
            "Collecting defusedxml==0.6.0 (from -r requirements.txt (line 20))\n",
            "  Using cached defusedxml-0.6.0-py2.py3-none-any.whl (23 kB)\n",
            "Collecting docutils==0.16 (from -r requirements.txt (line 21))\n",
            "  Using cached docutils-0.16-py2.py3-none-any.whl (548 kB)\n",
            "Collecting entrypoints==0.3 (from -r requirements.txt (line 22))\n",
            "  Using cached entrypoints-0.3-py2.py3-none-any.whl (11 kB)\n",
            "Collecting flake8==3.9.2 (from -r requirements.txt (line 23))\n",
            "  Using cached flake8-3.9.2-py2.py3-none-any.whl (73 kB)\n",
            "Collecting flake8-bugbear==21.4.3 (from -r requirements.txt (line 24))\n",
            "  Using cached flake8_bugbear-21.4.3-py36.py37.py38-none-any.whl (17 kB)\n",
            "Collecting flake8-comprehensions==3.5.0 (from -r requirements.txt (line 25))\n",
            "  Using cached flake8_comprehensions-3.5.0-py3-none-any.whl (6.4 kB)\n",
            "Collecting furo==2021.4.11b34 (from -r requirements.txt (line 26))\n",
            "  Using cached furo-2021.4.11b34-py3-none-any.whl (62 kB)\n",
            "Collecting idna==2.10 (from -r requirements.txt (line 27))\n",
            "  Using cached idna-2.10-py2.py3-none-any.whl (58 kB)\n",
            "Collecting imagesize==1.2.0 (from -r requirements.txt (line 28))\n",
            "  Using cached imagesize-1.2.0-py2.py3-none-any.whl (4.8 kB)\n",
            "Collecting iniconfig==1.1.1 (from -r requirements.txt (line 29))\n",
            "  Using cached iniconfig-1.1.1-py2.py3-none-any.whl (5.0 kB)\n",
            "Collecting ipykernel==5.4.3 (from -r requirements.txt (line 30))\n",
            "  Using cached ipykernel-5.4.3-py3-none-any.whl (120 kB)\n",
            "Collecting ipython==7.20.0 (from -r requirements.txt (line 31))\n",
            "  Using cached ipython-7.20.0-py3-none-any.whl (784 kB)\n",
            "Requirement already satisfied: ipython-genutils==0.2.0 in /usr/local/lib/python3.10/dist-packages (from -r requirements.txt (line 32)) (0.2.0)\n",
            "Collecting ipywidgets==7.6.3 (from -r requirements.txt (line 33))\n",
            "  Using cached ipywidgets-7.6.3-py2.py3-none-any.whl (121 kB)\n",
            "Collecting isort==5.8.0 (from -r requirements.txt (line 34))\n",
            "  Using cached isort-5.8.0-py3-none-any.whl (103 kB)\n",
            "Collecting jedi==0.18.0 (from -r requirements.txt (line 35))\n",
            "  Using cached jedi-0.18.0-py2.py3-none-any.whl (1.4 MB)\n",
            "Collecting Jinja2==2.11.3 (from -r requirements.txt (line 36))\n",
            "  Using cached Jinja2-2.11.3-py2.py3-none-any.whl (125 kB)\n",
            "Collecting jsonschema==3.2.0 (from -r requirements.txt (line 37))\n",
            "  Using cached jsonschema-3.2.0-py2.py3-none-any.whl (56 kB)\n",
            "Collecting jupyter==1.0.0 (from -r requirements.txt (line 38))\n",
            "  Using cached jupyter-1.0.0-py2.py3-none-any.whl (2.7 kB)\n",
            "Collecting jupyter-client==6.1.11 (from -r requirements.txt (line 39))\n",
            "  Using cached jupyter_client-6.1.11-py3-none-any.whl (108 kB)\n",
            "Collecting jupyter-console==6.2.0 (from -r requirements.txt (line 40))\n",
            "  Using cached jupyter_console-6.2.0-py3-none-any.whl (22 kB)\n",
            "Collecting jupyter-core==4.7.1 (from -r requirements.txt (line 41))\n",
            "  Using cached jupyter_core-4.7.1-py3-none-any.whl (82 kB)\n",
            "Collecting jupyterlab-pygments==0.1.2 (from -r requirements.txt (line 42))\n",
            "  Using cached jupyterlab_pygments-0.1.2-py2.py3-none-any.whl (4.6 kB)\n",
            "Collecting jupyterlab-widgets==1.0.0 (from -r requirements.txt (line 43))\n",
            "  Using cached jupyterlab_widgets-1.0.0-py3-none-any.whl (243 kB)\n",
            "Collecting kiwisolver==1.3.1 (from -r requirements.txt (line 44))\n",
            "  Using cached kiwisolver-1.3.1.tar.gz (53 kB)\n",
            "  Preparing metadata (setup.py) ... \u001b[?25l\u001b[?25hdone\n",
            "Collecting lazy-object-proxy==1.4.3 (from -r requirements.txt (line 45))\n",
            "  Using cached lazy-object-proxy-1.4.3.tar.gz (34 kB)\n",
            "  Installing build dependencies ... \u001b[?25l\u001b[?25hdone\n",
            "  Getting requirements to build wheel ... \u001b[?25l\u001b[?25hdone\n",
            "  Preparing metadata (pyproject.toml) ... \u001b[?25l\u001b[?25hdone\n",
            "Collecting MarkupSafe==1.1.1 (from -r requirements.txt (line 46))\n",
            "  Using cached MarkupSafe-1.1.1.tar.gz (19 kB)\n",
            "  Preparing metadata (setup.py) ... \u001b[?25l\u001b[?25hdone\n",
            "Collecting matplotlib==3.3.4 (from -r requirements.txt (line 47))\n",
            "  Using cached matplotlib-3.3.4.tar.gz (37.9 MB)\n",
            "  Preparing metadata (setup.py) ... \u001b[?25l\u001b[?25hdone\n",
            "Collecting mccabe==0.6.1 (from -r requirements.txt (line 48))\n",
            "  Using cached mccabe-0.6.1-py2.py3-none-any.whl (8.6 kB)\n",
            "Requirement already satisfied: mistune==0.8.4 in /usr/local/lib/python3.10/dist-packages (from -r requirements.txt (line 49)) (0.8.4)\n",
            "Collecting mypy==0.812 (from -r requirements.txt (line 50))\n",
            "  Using cached mypy-0.812-py3-none-any.whl (2.5 MB)\n",
            "Collecting mypy-extensions==0.4.3 (from -r requirements.txt (line 51))\n",
            "  Using cached mypy_extensions-0.4.3-py2.py3-none-any.whl (4.5 kB)\n",
            "Collecting nbclient==0.5.2 (from -r requirements.txt (line 52))\n",
            "  Using cached nbclient-0.5.2-py3-none-any.whl (65 kB)\n",
            "Collecting nbconvert==6.0.7 (from -r requirements.txt (line 53))\n",
            "  Using cached nbconvert-6.0.7-py3-none-any.whl (552 kB)\n",
            "Collecting nbformat==5.1.3 (from -r requirements.txt (line 54))\n",
            "  Using cached nbformat-5.1.3-py3-none-any.whl (178 kB)\n",
            "Collecting nest-asyncio==1.5.1 (from -r requirements.txt (line 55))\n",
            "  Using cached nest_asyncio-1.5.1-py3-none-any.whl (5.0 kB)\n",
            "Collecting notebook==6.2.0 (from -r requirements.txt (line 56))\n",
            "  Using cached notebook-6.2.0-py3-none-any.whl (9.5 MB)\n",
            "Collecting numpy==1.20.1 (from -r requirements.txt (line 57))\n",
            "  Using cached numpy-1.20.1.zip (7.8 MB)\n",
            "  Installing build dependencies ... \u001b[?25l\u001b[?25hdone\n",
            "  Getting requirements to build wheel ... \u001b[?25l\u001b[?25hdone\n",
            "  Preparing metadata (pyproject.toml) ... \u001b[?25l\u001b[?25hdone\n",
            "Collecting packaging==20.9 (from -r requirements.txt (line 58))\n",
            "  Using cached packaging-20.9-py2.py3-none-any.whl (40 kB)\n",
            "Collecting pandocfilters==1.4.3 (from -r requirements.txt (line 59))\n",
            "  Using cached pandocfilters-1.4.3.tar.gz (16 kB)\n",
            "  Preparing metadata (setup.py) ... \u001b[?25l\u001b[?25hdone\n",
            "Collecting parso==0.8.1 (from -r requirements.txt (line 60))\n",
            "  Using cached parso-0.8.1-py2.py3-none-any.whl (93 kB)\n",
            "Collecting pathspec==0.8.1 (from -r requirements.txt (line 61))\n",
            "  Using cached pathspec-0.8.1-py2.py3-none-any.whl (28 kB)\n",
            "Collecting pexpect==4.8.0 (from -r requirements.txt (line 62))\n",
            "  Using cached pexpect-4.8.0-py2.py3-none-any.whl (59 kB)\n",
            "Requirement already satisfied: pickleshare==0.7.5 in /usr/local/lib/python3.10/dist-packages (from -r requirements.txt (line 63)) (0.7.5)\n",
            "Collecting Pillow==8.2.0 (from -r requirements.txt (line 64))\n",
            "  Using cached Pillow-8.2.0.tar.gz (47.9 MB)\n",
            "  Preparing metadata (setup.py) ... \u001b[?25l\u001b[?25hdone\n",
            "Collecting pluggy==0.13.1 (from -r requirements.txt (line 65))\n",
            "  Using cached pluggy-0.13.1-py2.py3-none-any.whl (18 kB)\n",
            "Collecting prometheus-client==0.9.0 (from -r requirements.txt (line 66))\n",
            "  Using cached prometheus_client-0.9.0-py2.py3-none-any.whl (53 kB)\n",
            "Collecting prompt-toolkit==3.0.16 (from -r requirements.txt (line 67))\n",
            "  Using cached prompt_toolkit-3.0.16-py3-none-any.whl (366 kB)\n",
            "Requirement already satisfied: ptyprocess==0.7.0 in /usr/local/lib/python3.10/dist-packages (from -r requirements.txt (line 68)) (0.7.0)\n",
            "Collecting py==1.10.0 (from -r requirements.txt (line 69))\n",
            "  Using cached py-1.10.0-py2.py3-none-any.whl (97 kB)\n",
            "Collecting pybind11==2.6.2 (from -r requirements.txt (line 70))\n",
            "  Using cached pybind11-2.6.2-py2.py3-none-any.whl (191 kB)\n",
            "Collecting pycodestyle==2.7.0 (from -r requirements.txt (line 71))\n",
            "  Using cached pycodestyle-2.7.0-py2.py3-none-any.whl (41 kB)\n",
            "Collecting pycparser==2.20 (from -r requirements.txt (line 72))\n",
            "  Using cached pycparser-2.20-py2.py3-none-any.whl (112 kB)\n",
            "Collecting pyflakes==2.3.1 (from -r requirements.txt (line 73))\n",
            "  Using cached pyflakes-2.3.1-py2.py3-none-any.whl (68 kB)\n",
            "Collecting Pygments==2.7.4 (from -r requirements.txt (line 74))\n",
            "  Using cached Pygments-2.7.4-py3-none-any.whl (950 kB)\n",
            "Collecting pyparsing==2.4.7 (from -r requirements.txt (line 75))\n",
            "  Using cached pyparsing-2.4.7-py2.py3-none-any.whl (67 kB)\n",
            "Collecting pyrsistent==0.17.3 (from -r requirements.txt (line 76))\n",
            "  Using cached pyrsistent-0.17.3.tar.gz (106 kB)\n",
            "  Preparing metadata (setup.py) ... \u001b[?25l\u001b[?25hdone\n",
            "Collecting pytest==6.2.4 (from -r requirements.txt (line 77))\n",
            "  Using cached pytest-6.2.4-py3-none-any.whl (280 kB)\n",
            "Collecting pytest-cov==2.12.1 (from -r requirements.txt (line 78))\n",
            "  Using cached pytest_cov-2.12.1-py2.py3-none-any.whl (20 kB)\n",
            "Collecting python-dateutil==2.8.1 (from -r requirements.txt (line 79))\n",
            "  Using cached python_dateutil-2.8.1-py2.py3-none-any.whl (227 kB)\n",
            "Collecting pytorch-msssim==0.2.1 (from -r requirements.txt (line 80))\n",
            "  Using cached pytorch_msssim-0.2.1-py3-none-any.whl (7.2 kB)\n",
            "Collecting pytz==2021.1 (from -r requirements.txt (line 81))\n",
            "  Using cached pytz-2021.1-py2.py3-none-any.whl (510 kB)\n",
            "Collecting pyupgrade==2.14.0 (from -r requirements.txt (line 82))\n",
            "  Using cached pyupgrade-2.14.0-py2.py3-none-any.whl (47 kB)\n",
            "Collecting pyzmq==22.0.2 (from -r requirements.txt (line 83))\n",
            "  Using cached pyzmq-22.0.2.tar.gz (1.2 MB)\n",
            "  Installing build dependencies ... \u001b[?25l\u001b[?25hdone\n",
            "  Getting requirements to build wheel ... \u001b[?25l\u001b[?25hdone\n",
            "  Preparing metadata (pyproject.toml) ... \u001b[?25l\u001b[?25hdone\n",
            "Collecting qtconsole==5.0.2 (from -r requirements.txt (line 84))\n",
            "  Using cached qtconsole-5.0.2-py3-none-any.whl (119 kB)\n",
            "Collecting QtPy==1.9.0 (from -r requirements.txt (line 85))\n",
            "  Using cached QtPy-1.9.0-py2.py3-none-any.whl (54 kB)\n",
            "Collecting regex==2020.11.13 (from -r requirements.txt (line 86))\n",
            "  Using cached regex-2020.11.13.tar.gz (694 kB)\n",
            "  Preparing metadata (setup.py) ... \u001b[?25l\u001b[?25hdone\n",
            "Collecting requests==2.25.1 (from -r requirements.txt (line 87))\n",
            "  Using cached requests-2.25.1-py2.py3-none-any.whl (61 kB)\n",
            "Collecting scipy==1.6.0 (from -r requirements.txt (line 88))\n",
            "  Using cached scipy-1.6.0.tar.gz (27.3 MB)\n",
            "  Installing build dependencies ... \u001b[?25l\u001b[?25hdone\n",
            "  Getting requirements to build wheel ... \u001b[?25l\u001b[?25hdone\n",
            "  Preparing metadata (pyproject.toml) ... \u001b[?25l\u001b[?25hdone\n",
            "Collecting Send2Trash==1.5.0 (from -r requirements.txt (line 89))\n",
            "  Using cached Send2Trash-1.5.0-py3-none-any.whl (12 kB)\n",
            "Collecting six==1.15.0 (from -r requirements.txt (line 90))\n",
            "  Using cached six-1.15.0-py2.py3-none-any.whl (10 kB)\n",
            "Collecting snowballstemmer==2.1.0 (from -r requirements.txt (line 91))\n",
            "  Using cached snowballstemmer-2.1.0-py2.py3-none-any.whl (93 kB)\n",
            "Collecting soupsieve==2.2.1 (from -r requirements.txt (line 92))\n",
            "  Using cached soupsieve-2.2.1-py3-none-any.whl (33 kB)\n",
            "Collecting Sphinx==3.5.4 (from -r requirements.txt (line 93))\n",
            "  Using cached Sphinx-3.5.4-py3-none-any.whl (2.8 MB)\n",
            "Collecting sphinxcontrib-applehelp==1.0.2 (from -r requirements.txt (line 94))\n",
            "  Using cached sphinxcontrib_applehelp-1.0.2-py2.py3-none-any.whl (121 kB)\n",
            "Collecting sphinxcontrib-devhelp==1.0.2 (from -r requirements.txt (line 95))\n",
            "  Using cached sphinxcontrib_devhelp-1.0.2-py2.py3-none-any.whl (84 kB)\n",
            "Collecting sphinxcontrib-htmlhelp==1.0.3 (from -r requirements.txt (line 96))\n",
            "  Using cached sphinxcontrib_htmlhelp-1.0.3-py2.py3-none-any.whl (96 kB)\n",
            "Requirement already satisfied: sphinxcontrib-jsmath==1.0.1 in /usr/local/lib/python3.10/dist-packages (from -r requirements.txt (line 97)) (1.0.1)\n",
            "Collecting sphinxcontrib-qthelp==1.0.3 (from -r requirements.txt (line 98))\n",
            "  Using cached sphinxcontrib_qthelp-1.0.3-py2.py3-none-any.whl (90 kB)\n",
            "Collecting sphinxcontrib-serializinghtml==1.1.4 (from -r requirements.txt (line 99))\n",
            "  Using cached sphinxcontrib_serializinghtml-1.1.4-py2.py3-none-any.whl (89 kB)\n",
            "Collecting terminado==0.9.2 (from -r requirements.txt (line 100))\n",
            "  Using cached terminado-0.9.2-py3-none-any.whl (14 kB)\n",
            "Collecting testpath==0.4.4 (from -r requirements.txt (line 101))\n",
            "  Using cached testpath-0.4.4-py2.py3-none-any.whl (163 kB)\n",
            "Collecting tokenize-rt==4.1.0 (from -r requirements.txt (line 102))\n",
            "  Using cached tokenize_rt-4.1.0-py2.py3-none-any.whl (6.1 kB)\n",
            "Requirement already satisfied: toml==0.10.2 in /usr/local/lib/python3.10/dist-packages (from -r requirements.txt (line 103)) (0.10.2)\n",
            "\u001b[31mERROR: Ignored the following versions that require a different python version: 1.6.2 Requires-Python >=3.7,<3.10; 1.6.3 Requires-Python >=3.7,<3.10; 1.7.0 Requires-Python >=3.7,<3.10; 1.7.1 Requires-Python >=3.7,<3.10\u001b[0m\u001b[31m\n",
            "\u001b[0m\u001b[31mERROR: Could not find a version that satisfies the requirement torch==1.8.1 (from versions: 1.11.0, 1.12.0, 1.12.1, 1.13.0, 1.13.1, 2.0.0, 2.0.1, 2.1.0, 2.1.1)\u001b[0m\u001b[31m\n",
            "\u001b[0m\u001b[31mERROR: No matching distribution found for torch==1.8.1\u001b[0m\u001b[31m\n",
            "\u001b[0mObtaining file:///content/STF/STF\n",
            "  Preparing metadata (setup.py) ... \u001b[?25l\u001b[?25hdone\n",
            "Requirement already satisfied: numpy in /usr/local/lib/python3.10/dist-packages (from compressai==1.1.6.dev0) (1.23.5)\n",
            "Requirement already satisfied: scipy in /usr/local/lib/python3.10/dist-packages (from compressai==1.1.6.dev0) (1.11.4)\n",
            "Requirement already satisfied: matplotlib in /usr/local/lib/python3.10/dist-packages (from compressai==1.1.6.dev0) (3.7.1)\n",
            "Requirement already satisfied: torch in /usr/local/lib/python3.10/dist-packages (from compressai==1.1.6.dev0) (2.1.0+cu118)\n",
            "Requirement already satisfied: torchvision in /usr/local/lib/python3.10/dist-packages (from compressai==1.1.6.dev0) (0.16.0+cu118)\n",
            "Requirement already satisfied: pytorch-msssim in /usr/local/lib/python3.10/dist-packages (from compressai==1.1.6.dev0) (1.0.0)\n",
            "Requirement already satisfied: timm in /usr/local/lib/python3.10/dist-packages (from compressai==1.1.6.dev0) (0.9.12)\n",
            "Requirement already satisfied: einops in /usr/local/lib/python3.10/dist-packages (from compressai==1.1.6.dev0) (0.7.0)\n",
            "Requirement already satisfied: contourpy>=1.0.1 in /usr/local/lib/python3.10/dist-packages (from matplotlib->compressai==1.1.6.dev0) (1.2.0)\n",
            "Requirement already satisfied: cycler>=0.10 in /usr/local/lib/python3.10/dist-packages (from matplotlib->compressai==1.1.6.dev0) (0.12.1)\n",
            "Requirement already satisfied: fonttools>=4.22.0 in /usr/local/lib/python3.10/dist-packages (from matplotlib->compressai==1.1.6.dev0) (4.45.1)\n",
            "Requirement already satisfied: kiwisolver>=1.0.1 in /usr/local/lib/python3.10/dist-packages (from matplotlib->compressai==1.1.6.dev0) (1.4.5)\n",
            "Requirement already satisfied: packaging>=20.0 in /usr/local/lib/python3.10/dist-packages (from matplotlib->compressai==1.1.6.dev0) (23.2)\n",
            "Requirement already satisfied: pillow>=6.2.0 in /usr/local/lib/python3.10/dist-packages (from matplotlib->compressai==1.1.6.dev0) (9.4.0)\n",
            "Requirement already satisfied: pyparsing>=2.3.1 in /usr/local/lib/python3.10/dist-packages (from matplotlib->compressai==1.1.6.dev0) (3.1.1)\n",
            "Requirement already satisfied: python-dateutil>=2.7 in /usr/local/lib/python3.10/dist-packages (from matplotlib->compressai==1.1.6.dev0) (2.8.2)\n",
            "Requirement already satisfied: pyyaml in /usr/local/lib/python3.10/dist-packages (from timm->compressai==1.1.6.dev0) (6.0.1)\n",
            "Requirement already satisfied: huggingface-hub in /usr/local/lib/python3.10/dist-packages (from timm->compressai==1.1.6.dev0) (0.19.4)\n",
            "Requirement already satisfied: safetensors in /usr/local/lib/python3.10/dist-packages (from timm->compressai==1.1.6.dev0) (0.4.1)\n",
            "Requirement already satisfied: filelock in /usr/local/lib/python3.10/dist-packages (from torch->compressai==1.1.6.dev0) (3.13.1)\n",
            "Requirement already satisfied: typing-extensions in /usr/local/lib/python3.10/dist-packages (from torch->compressai==1.1.6.dev0) (4.5.0)\n",
            "Requirement already satisfied: sympy in /usr/local/lib/python3.10/dist-packages (from torch->compressai==1.1.6.dev0) (1.12)\n",
            "Requirement already satisfied: networkx in /usr/local/lib/python3.10/dist-packages (from torch->compressai==1.1.6.dev0) (3.2.1)\n",
            "Requirement already satisfied: jinja2 in /usr/local/lib/python3.10/dist-packages (from torch->compressai==1.1.6.dev0) (3.1.2)\n",
            "Requirement already satisfied: fsspec in /usr/local/lib/python3.10/dist-packages (from torch->compressai==1.1.6.dev0) (2023.6.0)\n",
            "Requirement already satisfied: triton==2.1.0 in /usr/local/lib/python3.10/dist-packages (from torch->compressai==1.1.6.dev0) (2.1.0)\n",
            "Requirement already satisfied: requests in /usr/local/lib/python3.10/dist-packages (from torchvision->compressai==1.1.6.dev0) (2.31.0)\n",
            "Requirement already satisfied: six>=1.5 in /usr/local/lib/python3.10/dist-packages (from python-dateutil>=2.7->matplotlib->compressai==1.1.6.dev0) (1.16.0)\n",
            "Requirement already satisfied: tqdm>=4.42.1 in /usr/local/lib/python3.10/dist-packages (from huggingface-hub->timm->compressai==1.1.6.dev0) (4.66.1)\n",
            "Requirement already satisfied: MarkupSafe>=2.0 in /usr/local/lib/python3.10/dist-packages (from jinja2->torch->compressai==1.1.6.dev0) (2.1.3)\n",
            "Requirement already satisfied: charset-normalizer<4,>=2 in /usr/local/lib/python3.10/dist-packages (from requests->torchvision->compressai==1.1.6.dev0) (3.3.2)\n",
            "Requirement already satisfied: idna<4,>=2.5 in /usr/local/lib/python3.10/dist-packages (from requests->torchvision->compressai==1.1.6.dev0) (3.6)\n",
            "Requirement already satisfied: urllib3<3,>=1.21.1 in /usr/local/lib/python3.10/dist-packages (from requests->torchvision->compressai==1.1.6.dev0) (2.0.7)\n",
            "Requirement already satisfied: certifi>=2017.4.17 in /usr/local/lib/python3.10/dist-packages (from requests->torchvision->compressai==1.1.6.dev0) (2023.11.17)\n",
            "Requirement already satisfied: mpmath>=0.19 in /usr/local/lib/python3.10/dist-packages (from sympy->torch->compressai==1.1.6.dev0) (1.3.0)\n",
            "Installing collected packages: compressai\n",
            "  Attempting uninstall: compressai\n",
            "    Found existing installation: compressai 1.1.6.dev0\n",
            "    Uninstalling compressai-1.1.6.dev0:\n",
            "      Successfully uninstalled compressai-1.1.6.dev0\n",
            "  Running setup.py develop for compressai\n",
            "Successfully installed compressai-1.1.6.dev0\n",
            "Obtaining file:///content/STF/STF\n",
            "  Preparing metadata (setup.py) ... \u001b[?25l\u001b[?25hdone\n",
            "Requirement already satisfied: numpy in /usr/local/lib/python3.10/dist-packages (from compressai==1.1.6.dev0) (1.23.5)\n",
            "Requirement already satisfied: scipy in /usr/local/lib/python3.10/dist-packages (from compressai==1.1.6.dev0) (1.11.4)\n",
            "Requirement already satisfied: matplotlib in /usr/local/lib/python3.10/dist-packages (from compressai==1.1.6.dev0) (3.7.1)\n",
            "Requirement already satisfied: torch in /usr/local/lib/python3.10/dist-packages (from compressai==1.1.6.dev0) (2.1.0+cu118)\n",
            "Requirement already satisfied: torchvision in /usr/local/lib/python3.10/dist-packages (from compressai==1.1.6.dev0) (0.16.0+cu118)\n",
            "Requirement already satisfied: pytorch-msssim in /usr/local/lib/python3.10/dist-packages (from compressai==1.1.6.dev0) (1.0.0)\n",
            "Requirement already satisfied: timm in /usr/local/lib/python3.10/dist-packages (from compressai==1.1.6.dev0) (0.9.12)\n",
            "Requirement already satisfied: einops in /usr/local/lib/python3.10/dist-packages (from compressai==1.1.6.dev0) (0.7.0)\n",
            "Requirement already satisfied: pytest in /usr/local/lib/python3.10/dist-packages (from compressai==1.1.6.dev0) (7.4.3)\n",
            "Requirement already satisfied: pytest-cov in /usr/local/lib/python3.10/dist-packages (from compressai==1.1.6.dev0) (4.1.0)\n",
            "Requirement already satisfied: black in /usr/local/lib/python3.10/dist-packages (from compressai==1.1.6.dev0) (23.11.0)\n",
            "Requirement already satisfied: flake8 in /usr/local/lib/python3.10/dist-packages (from compressai==1.1.6.dev0) (6.1.0)\n",
            "Requirement already satisfied: flake8-bugbear in /usr/local/lib/python3.10/dist-packages (from compressai==1.1.6.dev0) (23.12.2)\n",
            "Requirement already satisfied: flake8-comprehensions in /usr/local/lib/python3.10/dist-packages (from compressai==1.1.6.dev0) (3.14.0)\n",
            "Requirement already satisfied: isort in /usr/local/lib/python3.10/dist-packages (from compressai==1.1.6.dev0) (5.12.0)\n",
            "Requirement already satisfied: mypy in /usr/local/lib/python3.10/dist-packages (from compressai==1.1.6.dev0) (1.7.1)\n",
            "Requirement already satisfied: click>=8.0.0 in /usr/local/lib/python3.10/dist-packages (from black->compressai==1.1.6.dev0) (8.1.7)\n",
            "Requirement already satisfied: mypy-extensions>=0.4.3 in /usr/local/lib/python3.10/dist-packages (from black->compressai==1.1.6.dev0) (1.0.0)\n",
            "Requirement already satisfied: packaging>=22.0 in /usr/local/lib/python3.10/dist-packages (from black->compressai==1.1.6.dev0) (23.2)\n",
            "Requirement already satisfied: pathspec>=0.9.0 in /usr/local/lib/python3.10/dist-packages (from black->compressai==1.1.6.dev0) (0.11.2)\n",
            "Requirement already satisfied: platformdirs>=2 in /usr/local/lib/python3.10/dist-packages (from black->compressai==1.1.6.dev0) (4.0.0)\n",
            "Requirement already satisfied: tomli>=1.1.0 in /usr/local/lib/python3.10/dist-packages (from black->compressai==1.1.6.dev0) (2.0.1)\n",
            "Requirement already satisfied: typing-extensions>=4.0.1 in /usr/local/lib/python3.10/dist-packages (from black->compressai==1.1.6.dev0) (4.5.0)\n",
            "Requirement already satisfied: mccabe<0.8.0,>=0.7.0 in /usr/local/lib/python3.10/dist-packages (from flake8->compressai==1.1.6.dev0) (0.7.0)\n",
            "Requirement already satisfied: pycodestyle<2.12.0,>=2.11.0 in /usr/local/lib/python3.10/dist-packages (from flake8->compressai==1.1.6.dev0) (2.11.1)\n",
            "Requirement already satisfied: pyflakes<3.2.0,>=3.1.0 in /usr/local/lib/python3.10/dist-packages (from flake8->compressai==1.1.6.dev0) (3.1.0)\n",
            "Requirement already satisfied: attrs>=19.2.0 in /usr/local/lib/python3.10/dist-packages (from flake8-bugbear->compressai==1.1.6.dev0) (23.1.0)\n",
            "Requirement already satisfied: contourpy>=1.0.1 in /usr/local/lib/python3.10/dist-packages (from matplotlib->compressai==1.1.6.dev0) (1.2.0)\n",
            "Requirement already satisfied: cycler>=0.10 in /usr/local/lib/python3.10/dist-packages (from matplotlib->compressai==1.1.6.dev0) (0.12.1)\n",
            "Requirement already satisfied: fonttools>=4.22.0 in /usr/local/lib/python3.10/dist-packages (from matplotlib->compressai==1.1.6.dev0) (4.45.1)\n",
            "Requirement already satisfied: kiwisolver>=1.0.1 in /usr/local/lib/python3.10/dist-packages (from matplotlib->compressai==1.1.6.dev0) (1.4.5)\n",
            "Requirement already satisfied: pillow>=6.2.0 in /usr/local/lib/python3.10/dist-packages (from matplotlib->compressai==1.1.6.dev0) (9.4.0)\n",
            "Requirement already satisfied: pyparsing>=2.3.1 in /usr/local/lib/python3.10/dist-packages (from matplotlib->compressai==1.1.6.dev0) (3.1.1)\n",
            "Requirement already satisfied: python-dateutil>=2.7 in /usr/local/lib/python3.10/dist-packages (from matplotlib->compressai==1.1.6.dev0) (2.8.2)\n",
            "Requirement already satisfied: iniconfig in /usr/local/lib/python3.10/dist-packages (from pytest->compressai==1.1.6.dev0) (2.0.0)\n",
            "Requirement already satisfied: pluggy<2.0,>=0.12 in /usr/local/lib/python3.10/dist-packages (from pytest->compressai==1.1.6.dev0) (1.3.0)\n",
            "Requirement already satisfied: exceptiongroup>=1.0.0rc8 in /usr/local/lib/python3.10/dist-packages (from pytest->compressai==1.1.6.dev0) (1.2.0)\n",
            "Requirement already satisfied: coverage[toml]>=5.2.1 in /usr/local/lib/python3.10/dist-packages (from pytest-cov->compressai==1.1.6.dev0) (7.3.2)\n",
            "Requirement already satisfied: pyyaml in /usr/local/lib/python3.10/dist-packages (from timm->compressai==1.1.6.dev0) (6.0.1)\n",
            "Requirement already satisfied: huggingface-hub in /usr/local/lib/python3.10/dist-packages (from timm->compressai==1.1.6.dev0) (0.19.4)\n",
            "Requirement already satisfied: safetensors in /usr/local/lib/python3.10/dist-packages (from timm->compressai==1.1.6.dev0) (0.4.1)\n",
            "Requirement already satisfied: filelock in /usr/local/lib/python3.10/dist-packages (from torch->compressai==1.1.6.dev0) (3.13.1)\n",
            "Requirement already satisfied: sympy in /usr/local/lib/python3.10/dist-packages (from torch->compressai==1.1.6.dev0) (1.12)\n",
            "Requirement already satisfied: networkx in /usr/local/lib/python3.10/dist-packages (from torch->compressai==1.1.6.dev0) (3.2.1)\n",
            "Requirement already satisfied: jinja2 in /usr/local/lib/python3.10/dist-packages (from torch->compressai==1.1.6.dev0) (3.1.2)\n",
            "Requirement already satisfied: fsspec in /usr/local/lib/python3.10/dist-packages (from torch->compressai==1.1.6.dev0) (2023.6.0)\n",
            "Requirement already satisfied: triton==2.1.0 in /usr/local/lib/python3.10/dist-packages (from torch->compressai==1.1.6.dev0) (2.1.0)\n",
            "Requirement already satisfied: requests in /usr/local/lib/python3.10/dist-packages (from torchvision->compressai==1.1.6.dev0) (2.31.0)\n",
            "Requirement already satisfied: six>=1.5 in /usr/local/lib/python3.10/dist-packages (from python-dateutil>=2.7->matplotlib->compressai==1.1.6.dev0) (1.16.0)\n",
            "Requirement already satisfied: tqdm>=4.42.1 in /usr/local/lib/python3.10/dist-packages (from huggingface-hub->timm->compressai==1.1.6.dev0) (4.66.1)\n",
            "Requirement already satisfied: MarkupSafe>=2.0 in /usr/local/lib/python3.10/dist-packages (from jinja2->torch->compressai==1.1.6.dev0) (2.1.3)\n",
            "Requirement already satisfied: charset-normalizer<4,>=2 in /usr/local/lib/python3.10/dist-packages (from requests->torchvision->compressai==1.1.6.dev0) (3.3.2)\n",
            "Requirement already satisfied: idna<4,>=2.5 in /usr/local/lib/python3.10/dist-packages (from requests->torchvision->compressai==1.1.6.dev0) (3.6)\n",
            "Requirement already satisfied: urllib3<3,>=1.21.1 in /usr/local/lib/python3.10/dist-packages (from requests->torchvision->compressai==1.1.6.dev0) (2.0.7)\n",
            "Requirement already satisfied: certifi>=2017.4.17 in /usr/local/lib/python3.10/dist-packages (from requests->torchvision->compressai==1.1.6.dev0) (2023.11.17)\n",
            "Requirement already satisfied: mpmath>=0.19 in /usr/local/lib/python3.10/dist-packages (from sympy->torch->compressai==1.1.6.dev0) (1.3.0)\n",
            "Installing collected packages: compressai\n",
            "  Attempting uninstall: compressai\n",
            "    Found existing installation: compressai 1.1.6.dev0\n",
            "    Uninstalling compressai-1.1.6.dev0:\n",
            "      Successfully uninstalled compressai-1.1.6.dev0\n",
            "  Running setup.py develop for compressai\n",
            "Successfully installed compressai-1.1.6.dev0\n"
          ]
        }
      ],
      "source": [
        "# Loading pretrained weights\n",
        "%mkdir -p compressai/pretrained && gdown -O compressai/pretrained/ 1OFzZoEaofNgsimBuOPHtgOJiGsR_RS-M\n",
        "!pip install -r requirements.txt\n",
        "!pip install -e .\n",
        "!pip install -e '.[dev]'\n"
      ]
    },
    {
      "cell_type": "code",
      "execution_count": 17,
      "metadata": {
        "colab": {
          "base_uri": "https://localhost:8080/"
        },
        "id": "t2n7tvlTkCMg",
        "outputId": "af800d24-8124-4dfe-cbce-4a5134e70e4b"
      },
      "outputs": [
        {
          "name": "stdout",
          "output_type": "stream",
          "text": [
            "M\tcompressai/version.py\n",
            "Branch 'devMorten' set up to track remote branch 'devMorten' from 'origin'.\n",
            "Switched to a new branch 'devMorten'\n",
            "Already up to date.\n"
          ]
        }
      ],
      "source": [
        "\n",
        "!git checkout devMorten\n",
        "!git pull\n"
      ]
    },
    {
      "cell_type": "code",
      "execution_count": 18,
      "metadata": {
        "id": "KTamkWGpZjuF"
      },
      "outputs": [],
      "source": [
        "# !pip install torch\n",
        "\n",
        "from optimized_compressions import (compress_by_y_optimization_through_decoder,\n",
        "                                    decompress_by_image_optimization_through_encoder,\n",
        "                                    y_bar_optimize_from_imagedecoder)\n",
        "\n",
        "from our_utils import (pull_openimages,\n",
        "                       prepare_data_loader,\n",
        "                       load_pretrained_model,\n",
        "                       plot_reconstruction)\n",
        "\n",
        "import matplotlib.pyplot as plt\n",
        "#%matplotlib notebook\n",
        "#%matplotlib widget\n",
        "%matplotlib inline"
      ]
    },
    {
      "cell_type": "code",
      "execution_count": null,
      "metadata": {
        "colab": {
          "base_uri": "https://localhost:8080/"
        },
        "id": "f8ION5-kj3aY",
        "outputId": "a2ad420e-fada-4c86-801b-6c570fdf230e"
      },
      "outputs": [
        {
          "name": "stdout",
          "output_type": "stream",
          "text": [
            "Downloading split 'train' to 'openimages/train' if necessary\n"
          ]
        },
        {
          "name": "stderr",
          "output_type": "stream",
          "text": [
            "INFO:fiftyone.zoo.datasets:Downloading split 'train' to 'openimages/train' if necessary\n"
          ]
        },
        {
          "name": "stdout",
          "output_type": "stream",
          "text": [
            "Downloading 'https://storage.googleapis.com/openimages/2018_04/train/train-images-boxable-with-rotation.csv' to 'openimages/train/metadata/image_ids.csv'\n"
          ]
        },
        {
          "name": "stderr",
          "output_type": "stream",
          "text": [
            "INFO:fiftyone.utils.openimages:Downloading 'https://storage.googleapis.com/openimages/2018_04/train/train-images-boxable-with-rotation.csv' to 'openimages/train/metadata/image_ids.csv'\n"
          ]
        },
        {
          "name": "stdout",
          "output_type": "stream",
          "text": [
            " 100% |██████|    4.8Gb/4.8Gb [4.9s elapsed, 0s remaining, 814.8Mb/s]       \n"
          ]
        },
        {
          "name": "stderr",
          "output_type": "stream",
          "text": [
            "INFO:eta.core.utils: 100% |██████|    4.8Gb/4.8Gb [4.9s elapsed, 0s remaining, 814.8Mb/s]       \n"
          ]
        },
        {
          "name": "stdout",
          "output_type": "stream",
          "text": [
            "Downloading 'https://storage.googleapis.com/openimages/v5/class-descriptions-boxable.csv' to 'openimages/train/metadata/classes.csv'\n"
          ]
        },
        {
          "name": "stderr",
          "output_type": "stream",
          "text": [
            "INFO:fiftyone.utils.openimages:Downloading 'https://storage.googleapis.com/openimages/v5/class-descriptions-boxable.csv' to 'openimages/train/metadata/classes.csv'\n"
          ]
        },
        {
          "name": "stdout",
          "output_type": "stream",
          "text": [
            "Downloading 'https://storage.googleapis.com/openimages/2018_04/bbox_labels_600_hierarchy.json' to '/tmp/tmpypbg7jh4/metadata/hierarchy.json'\n"
          ]
        },
        {
          "name": "stderr",
          "output_type": "stream",
          "text": [
            "INFO:fiftyone.utils.openimages:Downloading 'https://storage.googleapis.com/openimages/2018_04/bbox_labels_600_hierarchy.json' to '/tmp/tmpypbg7jh4/metadata/hierarchy.json'\n"
          ]
        },
        {
          "name": "stdout",
          "output_type": "stream",
          "text": [
            "Downloading 'https://storage.googleapis.com/openimages/v5/train-annotations-human-imagelabels-boxable.csv' to 'openimages/train/labels/classifications.csv'\n"
          ]
        },
        {
          "name": "stderr",
          "output_type": "stream",
          "text": [
            "INFO:fiftyone.utils.openimages:Downloading 'https://storage.googleapis.com/openimages/v5/train-annotations-human-imagelabels-boxable.csv' to 'openimages/train/labels/classifications.csv'\n"
          ]
        },
        {
          "name": "stdout",
          "output_type": "stream",
          "text": [
            "Downloading 3 images\n"
          ]
        },
        {
          "name": "stderr",
          "output_type": "stream",
          "text": [
            "INFO:fiftyone.utils.openimages:Downloading 3 images\n"
          ]
        },
        {
          "name": "stdout",
          "output_type": "stream",
          "text": [
            " 100% |███████████████████████| 3/3 [1.4s elapsed, 0s remaining, 2.2 files/s]   \n"
          ]
        },
        {
          "name": "stderr",
          "output_type": "stream",
          "text": [
            "INFO:eta.core.utils: 100% |███████████████████████| 3/3 [1.4s elapsed, 0s remaining, 2.2 files/s]   \n"
          ]
        },
        {
          "name": "stdout",
          "output_type": "stream",
          "text": [
            "Dataset info written to 'openimages/info.json'\n"
          ]
        },
        {
          "name": "stderr",
          "output_type": "stream",
          "text": [
            "INFO:fiftyone.zoo.datasets:Dataset info written to 'openimages/info.json'\n"
          ]
        },
        {
          "name": "stdout",
          "output_type": "stream",
          "text": [
            "Loading existing dataset 'open-images-v6-train-3'. To reload from disk, either delete the existing dataset or provide a custom `dataset_name` to use\n"
          ]
        },
        {
          "name": "stderr",
          "output_type": "stream",
          "text": [
            "INFO:fiftyone.zoo.datasets:Loading existing dataset 'open-images-v6-train-3'. To reload from disk, either delete the existing dataset or provide a custom `dataset_name` to use\n"
          ]
        },
        {
          "name": "stdout",
          "output_type": "stream",
          "text": [
            "Downloading split 'test' to 'openimages/test' if necessary\n"
          ]
        },
        {
          "name": "stderr",
          "output_type": "stream",
          "text": [
            "INFO:fiftyone.zoo.datasets:Downloading split 'test' to 'openimages/test' if necessary\n"
          ]
        },
        {
          "name": "stdout",
          "output_type": "stream",
          "text": [
            "Downloading 'https://storage.googleapis.com/openimages/2018_04/test/test-images-with-rotation.csv' to 'openimages/test/metadata/image_ids.csv'\n"
          ]
        },
        {
          "name": "stderr",
          "output_type": "stream",
          "text": [
            "INFO:fiftyone.utils.openimages:Downloading 'https://storage.googleapis.com/openimages/2018_04/test/test-images-with-rotation.csv' to 'openimages/test/metadata/image_ids.csv'\n"
          ]
        },
        {
          "name": "stdout",
          "output_type": "stream",
          "text": [
            "Downloading 'https://storage.googleapis.com/openimages/v5/class-descriptions-boxable.csv' to 'openimages/test/metadata/classes.csv'\n"
          ]
        },
        {
          "name": "stderr",
          "output_type": "stream",
          "text": [
            "INFO:fiftyone.utils.openimages:Downloading 'https://storage.googleapis.com/openimages/v5/class-descriptions-boxable.csv' to 'openimages/test/metadata/classes.csv'\n"
          ]
        },
        {
          "name": "stdout",
          "output_type": "stream",
          "text": [
            "Downloading 'https://storage.googleapis.com/openimages/2018_04/bbox_labels_600_hierarchy.json' to '/tmp/tmpz2n3d8ls/metadata/hierarchy.json'\n"
          ]
        },
        {
          "name": "stderr",
          "output_type": "stream",
          "text": [
            "INFO:fiftyone.utils.openimages:Downloading 'https://storage.googleapis.com/openimages/2018_04/bbox_labels_600_hierarchy.json' to '/tmp/tmpz2n3d8ls/metadata/hierarchy.json'\n"
          ]
        },
        {
          "name": "stdout",
          "output_type": "stream",
          "text": [
            "Downloading 'https://storage.googleapis.com/openimages/v5/test-annotations-human-imagelabels-boxable.csv' to 'openimages/test/labels/classifications.csv'\n"
          ]
        },
        {
          "name": "stderr",
          "output_type": "stream",
          "text": [
            "INFO:fiftyone.utils.openimages:Downloading 'https://storage.googleapis.com/openimages/v5/test-annotations-human-imagelabels-boxable.csv' to 'openimages/test/labels/classifications.csv'\n"
          ]
        },
        {
          "name": "stdout",
          "output_type": "stream",
          "text": [
            "Downloading 2 images\n"
          ]
        },
        {
          "name": "stderr",
          "output_type": "stream",
          "text": [
            "INFO:fiftyone.utils.openimages:Downloading 2 images\n"
          ]
        },
        {
          "name": "stdout",
          "output_type": "stream",
          "text": [
            " 100% |███████████████████████| 2/2 [1.3s elapsed, 0s remaining, 1.6 files/s]   \n"
          ]
        },
        {
          "name": "stderr",
          "output_type": "stream",
          "text": [
            "INFO:eta.core.utils: 100% |███████████████████████| 2/2 [1.3s elapsed, 0s remaining, 1.6 files/s]   \n"
          ]
        },
        {
          "name": "stdout",
          "output_type": "stream",
          "text": [
            "Dataset info written to 'openimages/info.json'\n"
          ]
        },
        {
          "name": "stderr",
          "output_type": "stream",
          "text": [
            "INFO:fiftyone.zoo.datasets:Dataset info written to 'openimages/info.json'\n"
          ]
        },
        {
          "name": "stdout",
          "output_type": "stream",
          "text": [
            "Loading existing dataset 'open-images-v6-test-2'. To reload from disk, either delete the existing dataset or provide a custom `dataset_name` to use\n"
          ]
        },
        {
          "name": "stderr",
          "output_type": "stream",
          "text": [
            "INFO:fiftyone.zoo.datasets:Loading existing dataset 'open-images-v6-test-2'. To reload from disk, either delete the existing dataset or provide a custom `dataset_name` to use\n"
          ]
        },
        {
          "name": "stdout",
          "output_type": "stream",
          "text": [
            "Downloading split 'train' to 'openimages/train' if necessary\n"
          ]
        },
        {
          "name": "stderr",
          "output_type": "stream",
          "text": [
            "INFO:fiftyone.zoo.datasets:Downloading split 'train' to 'openimages/train' if necessary\n"
          ]
        }
      ],
      "source": [
        "# Some defenitions\n",
        "device = \"cuda\" if torch.cuda.is_available() else \"cpu\"\n",
        "dataset_dir = \"openimages\"\n",
        "channels = 3\n",
        "test_batch_size = 2\n",
        "patch_size = (256, 256)\n",
        "\n",
        "# Prepare data and load model\n",
        "pull_openimages(traning_size=test_batch_size+1, test_size=test_batch_size, dataset_dir=dataset_dir)\n",
        "test_dataloader = prepare_data_loader(patch_size=patch_size, test_batch_size=test_batch_size, device=device, dataset_dir=dataset_dir)\n",
        "model = load_pretrained_model(path=\"compressai/pretrained/stf_0035_best.pth.tar\", device=device, freeze=True)\n",
        "\n",
        "our_batch = next(iter(test_dataloader))\n",
        "our_batch = our_batch.to(device)\n",
        "\n",
        "# Generate a normal reconstruction\n",
        "standard_compression = model.compress(our_batch)\n",
        "normal_reconstruction = model.decompress(*standard_compression.values())['x_hat']\n",
        "\n"
      ]
    },
    {
      "cell_type": "code",
      "execution_count": null,
      "metadata": {
        "id": "x6N4VWclpGtd"
      },
      "outputs": [],
      "source": [
        "compression_by_y = compress_by_y_optimization_through_decoder(model, our_batch, normal_reconstruction, iterations=3)\n",
        "reconstructed_image_y_compression = model.decompress(*compression_by_y.values())['x_hat']\n",
        "\n",
        "# Plot the results\n",
        "plot_reconstruction(our_batch, reconstructed_image_y_compression, normal_reconstruction)\n",
        "plt.show(block=True)"
      ]
    },
    {
      "cell_type": "code",
      "execution_count": null,
      "metadata": {
        "id": "w-IDAiGBpgpp"
      },
      "outputs": [],
      "source": [
        "reconstruction_by_y_bar_standar_compression = decompress_by_image_optimization_through_encoder(model, standard_compression, normal_reconstruction, iterations=3)\n",
        "plot_reconstruction(our_batch, reconstruction_by_y_bar_standar_compression, normal_reconstruction)"
      ]
    },
    {
      "cell_type": "code",
      "execution_count": null,
      "metadata": {
        "id": "Y2NPH9dBplQP"
      },
      "outputs": [],
      "source": [
        "reconstructed_by_bar_y_compression = decompress_by_image_optimization_through_encoder(model, compression_by_y, normal_reconstruction, iterations=3)\n",
        "plot_reconstruction(our_batch, reconstructed_by_bar_y_compression, normal_reconstruction)"
      ]
    },
    {
      "cell_type": "code",
      "execution_count": null,
      "metadata": {
        "id": "Xwqib94Zpqu3"
      },
      "outputs": [],
      "source": []
    }
  ],
  "metadata": {
    "colab": {
      "provenance": []
    },
    "kernelspec": {
      "display_name": "Python 3",
      "name": "python3"
    },
    "language_info": {
      "name": "python"
    }
  },
  "nbformat": 4,
  "nbformat_minor": 0
}
